{
 "cells": [
  {
   "cell_type": "markdown",
   "metadata": {},
   "source": [
    "![rmotr](https://i.imgur.com/jiPp4hj.png)\n",
    "<hr style=\"margin-bottom: 40px;\">\n",
    "\n",
    "<div style=\"position: relative;\">\n",
    "    <img src=\"https://archive.ics.uci.edu/ml/assets/MLimages/Large2.jpg\"\n",
    "        style=\"float: right; margin: 0 40px 40px 40px;\"></img>\n",
    "\n",
    "    <h1>\n",
    "        Project assignment: US Census Analysis\n",
    "    </h1>\n",
    "\n",
    "    <p>We will be working with an extraction of data done by Barry Becker from the 1994 Census database.</p>\n",
    "</div>\n",
    "\n",
    "<i>\n",
    "> Dataset source: https://archive.ics.uci.edu/ml/machine-learning-databases/adult/adult.data <br>\n",
    "> Dataset description: https://archive.ics.uci.edu/ml/machine-learning-databases/adult/adult.names\n",
    "</i>"
   ]
  },
  {
   "cell_type": "markdown",
   "metadata": {},
   "source": [
    "### Dataset attribute information\n",
    "\n",
    "- **age**: continuous.\n",
    "- **workclass**: Private, Self-emp-not-inc, Self-emp-inc, Federal-gov, Local-gov, State-gov, Without-pay, Never-worked.\n",
    "- **fnlwgt**: continuous, sampling weight of the person.\n",
    "- **education**: Bachelors, Some-college, 11th, HS-grad, Prof-school, Assoc-acdm, Assoc-voc, 9th, 7th-8th, 12th, Masters, 1st-4th, 10th, Doctorate, 5th-6th, Preschool.\n",
    "- **education-num**: continuous.\n",
    "- **marital-status**: Married-civ-spouse, Divorced, Never-married, Separated, Widowed, Married-spouse-absent, Married-AF-spouse.\n",
    "- **occupation**: Tech-support, Craft-repair, Other-service, Sales, Exec-managerial, Prof-specialty, Handlers-cleaners, Machine-op-inspct, Adm-clerical, Farming-fishing, Transport-moving, Priv-house-serv, Protective-serv, Armed-Forces.\n",
    "- **relationship**: Wife, Own-child, Husband, Not-in-family, Other-relative, Unmarried.\n",
    "- **race**: White, Asian-Pac-Islander, Amer-Indian-Eskimo, Other, Black.\n",
    "- **sex**: Female, Male.\n",
    "- **capital-gain**: continuous, income from investment sources, apart from wages/salary.\n",
    "- **capital-loss**: continuous, losses from investment sources, apart from wages/salary.\n",
    "- **hours-per-week**: continuous.\n",
    "- **native-country**: United-States, Cambodia, England, Puerto-Rico, Canada, Germany, Outlying-US(Guam-USVI-etc), India, Japan, Greece, South, China, Cuba, Iran, Honduras, Philippines, Italy, Poland, Jamaica, Vietnam, Mexico, Portugal, Ireland, France, Dominican-Republic, Laos, Ecuador, Taiwan, Haiti, Columbia, Hungary, Guatemala, Nicaragua, Scotland, Thailand, Yugoslavia, El-Salvador, Trinadad&Tobago, Peru, Hong, Holand-Netherlands.\n",
    "- **income**: continuous."
   ]
  },
  {
   "cell_type": "markdown",
   "metadata": {},
   "source": [
    "![separator2](https://i.imgur.com/4gX5WFr.png)\n",
    "\n",
    "### Hands on! \n",
    "\n",
    "On that section you will analyze the dataset."
   ]
  },
  {
   "cell_type": "code",
   "execution_count": 1,
   "metadata": {},
   "outputs": [],
   "source": [
    "import pandas as pd"
   ]
  },
  {
   "cell_type": "markdown",
   "metadata": {},
   "source": [
    "<table style=\"width: 100%\">\n",
    "    <tr>\n",
    "        <td width=\"80\"><img src=\"https://i.imgur.com/skQuxIq.png\"></td>\n",
    "        <td style=\"font-size: 14px; text-align: left\">\n",
    "            Load the dataset **adult.csv** as a Pandas dataframe on a variable called **adult**.\n",
    "        </td>\n",
    "    </tr>\n",
    "</table>\n",
    "\n",
    "> ⚠️ <i>Be aware of how the data is separated (space + comma) and if has header, use the `engine='python'` param.</i>"
   ]
  },
  {
   "cell_type": "code",
   "execution_count": 2,
   "metadata": {},
   "outputs": [],
   "source": [
    "# Your code goes here\n",
    "\n"
   ]
  },
  {
   "cell_type": "markdown",
   "metadata": {},
   "source": [
    "![separator1](https://i.imgur.com/ZUWYTii.png)\n",
    "\n",
    "<table style=\"width: 100%\">\n",
    "    <tr>\n",
    "        <td width=\"80\"><img src=\"https://i.imgur.com/skQuxIq.png\"></td>\n",
    "        <td style=\"font-size: 14px; text-align: left\">\n",
    "            Update the column names of the dataframe with the attribute names.\n",
    "        </td>\n",
    "    </tr>\n",
    "</table>"
   ]
  },
  {
   "cell_type": "code",
   "execution_count": 3,
   "metadata": {},
   "outputs": [],
   "source": [
    "# Your code goes here\n",
    "\n"
   ]
  },
  {
   "cell_type": "markdown",
   "metadata": {},
   "source": [
    "![separator1](https://i.imgur.com/ZUWYTii.png)\n",
    "\n",
    "<table style=\"width: 100%\">\n",
    "    <tr>\n",
    "        <td width=\"80\"><img src=\"https://i.imgur.com/skQuxIq.png\"></td>\n",
    "        <td style=\"font-size: 14px; text-align: left\">\n",
    "            Check if there is any null value on the dataframe.\n",
    "        </td>\n",
    "    </tr>\n",
    "</table>\n",
    "\n",
    "> ⚠️ <i>Sometimes null values are represented by special characters, check unique values to find them</i>"
   ]
  },
  {
   "cell_type": "code",
   "execution_count": 4,
   "metadata": {
    "scrolled": true
   },
   "outputs": [],
   "source": [
    "# Your code goes here\n",
    "\n"
   ]
  },
  {
   "cell_type": "markdown",
   "metadata": {},
   "source": [
    "![separator1](https://i.imgur.com/ZUWYTii.png)\n",
    "\n",
    "<table style=\"width: 100%\">\n",
    "    <tr>\n",
    "        <td width=\"80\"><img src=\"https://i.imgur.com/skQuxIq.png\"></td>\n",
    "        <td style=\"font-size: 14px; text-align: left\">\n",
    "            Remove the rows that contains any null value.\n",
    "        </td>\n",
    "    </tr>\n",
    "</table>"
   ]
  },
  {
   "cell_type": "code",
   "execution_count": 5,
   "metadata": {},
   "outputs": [],
   "source": [
    "# Your code goes here\n",
    "\n"
   ]
  },
  {
   "cell_type": "markdown",
   "metadata": {},
   "source": [
    "![separator1](https://i.imgur.com/ZUWYTii.png)\n",
    "\n",
    "<table style=\"width: 100%\">\n",
    "    <tr>\n",
    "        <td width=\"80\"><img src=\"https://i.imgur.com/skQuxIq.png\"></td>\n",
    "        <td style=\"font-size: 14px; text-align: left\">\n",
    "            Check the percentage of each value of each <b>categorical column</b>.\n",
    "        </td>\n",
    "    </tr>\n",
    "</table>"
   ]
  },
  {
   "cell_type": "code",
   "execution_count": 6,
   "metadata": {
    "scrolled": false
   },
   "outputs": [],
   "source": [
    "# Your code goes here\n",
    "\n"
   ]
  },
  {
   "cell_type": "markdown",
   "metadata": {},
   "source": [
    "![separator1](https://i.imgur.com/ZUWYTii.png)\n",
    "\n",
    "<table style=\"width: 100%\">\n",
    "    <tr>\n",
    "        <td width=\"80\"><img src=\"https://i.imgur.com/skQuxIq.png\"></td>\n",
    "        <td style=\"font-size: 14px; text-align: left\">\n",
    "            Analyze <b>basic descriptive statistics</b> and <b>correlations</b> of numerical columns.\n",
    "        </td>\n",
    "    </tr>\n",
    "</table>"
   ]
  },
  {
   "cell_type": "code",
   "execution_count": 7,
   "metadata": {},
   "outputs": [],
   "source": [
    "# Your code goes here\n",
    "\n"
   ]
  },
  {
   "cell_type": "markdown",
   "metadata": {},
   "source": [
    "![separator1](https://i.imgur.com/ZUWYTii.png)\n",
    "\n",
    "<table style=\"width: 100%\">\n",
    "    <tr>\n",
    "        <td width=\"80\"><img src=\"https://i.imgur.com/skQuxIq.png\"></td>\n",
    "        <td style=\"font-size: 14px; text-align: left\">\n",
    "            Which are the max correlation of each variable?\n",
    "        </td>\n",
    "    </tr>\n",
    "</table>\n",
    "\n",
    "> ⚠️ <i>Be aware of removing main diagonal 1.0 values before checking max values.</i>"
   ]
  },
  {
   "cell_type": "code",
   "execution_count": 8,
   "metadata": {},
   "outputs": [],
   "source": [
    "# Your code goes here\n",
    "\n"
   ]
  },
  {
   "cell_type": "markdown",
   "metadata": {},
   "source": [
    "![separator1](https://i.imgur.com/ZUWYTii.png)\n",
    "\n",
    "<table style=\"width: 100%\">\n",
    "    <tr>\n",
    "        <td width=\"80\"><img src=\"https://i.imgur.com/skQuxIq.png\"></td>\n",
    "        <td style=\"font-size: 14px; text-align: left\">\n",
    "            List people that work more than 20 hours per week. How many are?\n",
    "        </td>\n",
    "    </tr>\n",
    "</table>"
   ]
  },
  {
   "cell_type": "code",
   "execution_count": 9,
   "metadata": {
    "scrolled": true
   },
   "outputs": [],
   "source": [
    "# Your code goes here\n",
    "\n"
   ]
  },
  {
   "cell_type": "markdown",
   "metadata": {},
   "source": [
    "![separator1](https://i.imgur.com/ZUWYTii.png)\n",
    "\n",
    "<table style=\"width: 100%\">\n",
    "    <tr>\n",
    "        <td width=\"80\"><img src=\"https://i.imgur.com/skQuxIq.png\"></td>\n",
    "        <td style=\"font-size: 14px; text-align: left\">\n",
    "            How many men and women are? Show totals and proportion over all the data.\n",
    "        </td>\n",
    "    </tr>\n",
    "</table>"
   ]
  },
  {
   "cell_type": "code",
   "execution_count": 10,
   "metadata": {
    "scrolled": true
   },
   "outputs": [],
   "source": [
    "# Your code goes here\n",
    "\n"
   ]
  },
  {
   "cell_type": "markdown",
   "metadata": {},
   "source": [
    "![separator2](https://i.imgur.com/4gX5WFr.png)\n",
    "\n",
    "### Basic visualizations\n",
    "\n",
    "On that section you will plot some basic visualizations of the data."
   ]
  },
  {
   "cell_type": "code",
   "execution_count": 11,
   "metadata": {},
   "outputs": [],
   "source": [
    "%matplotlib inline\n",
    "import matplotlib.pyplot as plt"
   ]
  },
  {
   "cell_type": "markdown",
   "metadata": {},
   "source": [
    "<table style=\"width: 100%\">\n",
    "    <tr>\n",
    "        <td width=\"80\"><img src=\"https://i.imgur.com/skQuxIq.png\"></td>\n",
    "        <td style=\"font-size: 14px; text-align: left\">\n",
    "            Show a <b>histogram</b> of <b>hours_per_week</b> numerical column.\n",
    "        </td>\n",
    "    </tr>\n",
    "</table>"
   ]
  },
  {
   "cell_type": "code",
   "execution_count": 12,
   "metadata": {},
   "outputs": [],
   "source": [
    "# Your code goes here\n",
    "\n"
   ]
  },
  {
   "cell_type": "markdown",
   "metadata": {},
   "source": [
    "![separator1](https://i.imgur.com/ZUWYTii.png)\n",
    "\n",
    "<table style=\"width: 100%\">\n",
    "    <tr>\n",
    "        <td width=\"80\"><img src=\"https://i.imgur.com/skQuxIq.png\"></td>\n",
    "        <td style=\"font-size: 14px; text-align: left\">\n",
    "            Show a <b>histogram</b> of <b>occupation</b> categorical column.\n",
    "        </td>\n",
    "    </tr>\n",
    "</table>\n",
    "\n",
    "> ⚠️ <i>To plot an histogram of a categorical column you should first count the column value ocurrences.</i>"
   ]
  },
  {
   "cell_type": "code",
   "execution_count": 13,
   "metadata": {
    "scrolled": false
   },
   "outputs": [],
   "source": [
    "# Your code goes here\n",
    "\n"
   ]
  },
  {
   "cell_type": "markdown",
   "metadata": {},
   "source": [
    "![separator1](https://i.imgur.com/ZUWYTii.png)\n",
    "\n",
    "<table style=\"width: 100%\">\n",
    "    <tr>\n",
    "        <td width=\"80\"><img src=\"https://i.imgur.com/skQuxIq.png\"></td>\n",
    "        <td style=\"font-size: 14px; text-align: left\">\n",
    "            Show a <b>barplot</b> of the mean of <b>hours-per-week</b> per <b>occupation</b>.\n",
    "        </td>\n",
    "    </tr>\n",
    "</table>"
   ]
  },
  {
   "cell_type": "code",
   "execution_count": 14,
   "metadata": {},
   "outputs": [],
   "source": [
    "# Your code goes here\n",
    "\n"
   ]
  },
  {
   "cell_type": "markdown",
   "metadata": {},
   "source": [
    "![separator1](https://i.imgur.com/ZUWYTii.png)\n",
    "\n",
    "<table style=\"width: 100%\">\n",
    "    <tr>\n",
    "        <td width=\"80\"><img src=\"https://i.imgur.com/skQuxIq.png\"></td>\n",
    "        <td style=\"font-size: 14px; text-align: left\">\n",
    "            Show a <b>boxplot</b> of <b>hours per week</b> numerical column.\n",
    "        </td>\n",
    "    </tr>\n",
    "</table>"
   ]
  },
  {
   "cell_type": "code",
   "execution_count": 15,
   "metadata": {
    "scrolled": false
   },
   "outputs": [],
   "source": [
    "# Your code goes here\n",
    "\n"
   ]
  },
  {
   "cell_type": "markdown",
   "metadata": {},
   "source": [
    "![separator2](https://i.imgur.com/4gX5WFr.png)"
   ]
  }
 ],
 "metadata": {
  "kernelspec": {
   "display_name": "Python 3",
   "language": "python",
   "name": "python3"
  },
  "language_info": {
   "codemirror_mode": {
    "name": "ipython",
    "version": 3
   },
   "file_extension": ".py",
   "mimetype": "text/x-python",
   "name": "python",
   "nbconvert_exporter": "python",
   "pygments_lexer": "ipython3",
   "version": "3.6.4"
  }
 },
 "nbformat": 4,
 "nbformat_minor": 2
}
